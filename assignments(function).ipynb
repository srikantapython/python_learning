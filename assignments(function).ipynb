{
 "cells": [
  {
   "cell_type": "code",
   "execution_count": 11,
   "metadata": {},
   "outputs": [
    {
     "name": "stdout",
     "output_type": "stream",
     "text": [
      "Enter A Number\n",
      "13\n",
      "2\n",
      "3\n",
      "4\n",
      "5\n",
      "number is prime\n"
     ]
    }
   ],
   "source": [
    "#7. take a number from the user and check whether it is prime?\n",
    "\n",
    "print \"Enter A Number\"\n",
    "num=int(raw_input())\n",
    "def find_prime_number(num):\n",
    "    if num>1:\n",
    "        for i in xrange(2,num/2):\n",
    "            print i\n",
    "            if num%i==0:\n",
    "                print \"Number is Not Prime\"\n",
    "                break\n",
    "        else:\n",
    "            print \"number is prime\"\n",
    "    else:\n",
    "        print \"enter number greater than 1\"\n",
    "\n",
    "        \n",
    "find_prime_number(num)\n",
    "    "
   ]
  },
  {
   "cell_type": "code",
   "execution_count": null,
   "metadata": {
    "collapsed": true
   },
   "outputs": [],
   "source": []
  }
 ],
 "metadata": {
  "kernelspec": {
   "display_name": "Python 2",
   "language": "python",
   "name": "python2"
  },
  "language_info": {
   "codemirror_mode": {
    "name": "ipython",
    "version": 2
   },
   "file_extension": ".py",
   "mimetype": "text/x-python",
   "name": "python",
   "nbconvert_exporter": "python",
   "pygments_lexer": "ipython2",
   "version": "2.7.14"
  }
 },
 "nbformat": 4,
 "nbformat_minor": 2
}
