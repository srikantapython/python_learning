{
 "cells": [
  {
   "cell_type": "code",
   "execution_count": 17,
   "metadata": {},
   "outputs": [
    {
     "name": "stdout",
     "output_type": "stream",
     "text": [
      "ENTER TOTAL NUMBER OF PEOPLE:  1820\n",
      "ENTER TOTAL NUMBER OF BUS:  5\n",
      "ENTER NUMBER OF SEATS IN ONE BUS:  100\n",
      "ENTER NUMBER PEOPLE ADJUST IN EACH BUS:  20\n",
      "Extra Bus needed is 11\n"
     ]
    }
   ],
   "source": [
    "#1.Take the input from the user for(Total number of people, toatl number of busses, Number of seats for bus, adjustfactor). \n",
    "#  Based on four inputs\n",
    "#  Deside whether there is sufficient busses or not and give solution for how many extra busses required.\n",
    "\n",
    "total_people=int(raw_input(\"ENTER TOTAL NUMBER OF PEOPLE:  \"))\n",
    "total_bus=int(raw_input(\"ENTER TOTAL NUMBER OF BUS:  \"))\n",
    "bus_seats=int(raw_input(\"ENTER NUMBER OF SEATS IN ONE BUS:  \"))\n",
    "bus_adjfact=int(raw_input(\"ENTER NUMBER PEOPLE ADJUST IN EACH BUS:  \"))\n",
    "total_seats=total_bus*(bus_seats+bus_adjfact)\n",
    "if total_people<=total_seats:\n",
    "    print \"SUFFICIENT BUSSES\"\n",
    "else:\n",
    "    if (total_people-total_seats)%(bus_seats+bus_adjfact) == 0:\n",
    "        extra=(total_people-total_seats)/(bus_seats+bus_adjfact)\n",
    "    else:\n",
    "        extra=extra=(total_people-total_seats)/(bus_seats+bus_adjfact)+1\n",
    "    print \"Extra Bus needed is\",extra\n"
   ]
  },
  {
   "cell_type": "code",
   "execution_count": 28,
   "metadata": {},
   "outputs": [
    {
     "name": "stdout",
     "output_type": "stream",
     "text": [
      "\n",
      "     ENTER\n",
      "     1.FARENHEIT VALUE\n",
      "     2.QUIT\n",
      "     \n",
      "1\n",
      "ENTER FAHRENHEIT TEMPERATUR:  98\n",
      "Celcious value of this farenheit 98.0F = 36.6666666667C\n",
      "\n",
      "     ENTER\n",
      "     1.FARENHEIT VALUE\n",
      "     2.QUIT\n",
      "     \n",
      "3\n",
      "invalid selection\n",
      "\n",
      "     ENTER\n",
      "     1.FARENHEIT VALUE\n",
      "     2.QUIT\n",
      "     \n",
      "2\n",
      "thank you\n"
     ]
    }
   ],
   "source": [
    "#2.take temp in foreightheat -> celcius\n",
    "while True:\n",
    "    print \"\"\"\n",
    "     ENTER\n",
    "     1.FARENHEIT VALUE\n",
    "     2.QUIT\n",
    "     \"\"\"\n",
    "    opt=int(raw_input())\n",
    "    if opt==1:\n",
    "        fahrenheit=float(raw_input(\"ENTER FAHRENHEIT TEMPERATUR:  \"))\n",
    "        celcious=((fahrenheit-32)*5)/9\n",
    "        print \"Celcious value of this farenheit \"+str(fahrenheit)+\"F = \"+str(celcious)+\"C\" \n",
    "    elif opt==2:\n",
    "        break\n",
    "    else:\n",
    "        print\"invalid selection\"\n",
    "        continue\n",
    "\n",
    "print \"thank you\"\n",
    "\n",
    "\n"
   ]
  },
  {
   "cell_type": "code",
   "execution_count": null,
   "metadata": {},
   "outputs": [],
   "source": [
    "#3. take four number from the user\n",
    "    #Do the below operations\n",
    "    #1.(a+b)**2, (c+d)**3\n",
    "    #2.standarddeviation\n",
    "    #3.regression\n",
    "    #4.factorial of every number\n",
    "    #5.find the average\n",
    "    #6.find the summation\n",
    "    \n",
    "\n",
    "print \"enter four numbers\"\n",
    "num1=int(raw_input())\n",
    "num2=int(raw_input())\n",
    "num3=int(raw_input())\n",
    "num4=int(raw_input())\n",
    "print \"\"\"\n",
    "Choose Operation What You Want to Do\n",
    "1.(num1+num2)^2 and (num3+num4)^3\n",
    "2.standarddeviation\n",
    "3.Regression\n",
    "4.Factorial of every Number\n",
    "5.Find The average\n",
    "6.Find the summation\n",
    "\"\"\"\n",
    "opt=int(raw_input())\n",
    "if opt==1:\n",
    "    print \"Square Of First Two Number\",(num1+num2)**2\n",
    "    print \"Square Of Last Two Number\",(num3+num4)**3\n",
    "elif opt==2:\n",
    "    mean=float((num1+num2+num3+num4)/4)\n",
    "    sd=((num1-mean)**2+(num2-mean)**2+(num3-mean)**2+(num4-mean)**2)/4\n",
    "    print \"standarddeviation\",sd**.5\n",
    "elif opt==3:\n",
    "    print \"finding solution???\"\n",
    "elif opt==4:\n",
    "    fact=1\n",
    "    while num1>1:\n",
    "        fact*=num1\n",
    "        num1=num1-1\n",
    "    print \"factorial of first num=\",fact\n",
    "    fact=1\n",
    "    while num2>1:\n",
    "        fact*=num2\n",
    "        num2=num2-1\n",
    "    print \"factorial of 2nd num=\",fact\n",
    "    fact=1\n",
    "    while num3>1:\n",
    "        fact*=num3\n",
    "        num3=num3-1\n",
    "    print \"factorial of 3rd num=\",fact\n",
    "    fact=1\n",
    "    while num4>1:\n",
    "        fact*=num4\n",
    "        num4=num4-1\n",
    "    print \"factorial of 4th num=\",fact\n",
    "elif opt==5:\n",
    "    print \"average=\",(num1+num2+num3+num4)/4\n",
    "elif opt==6:\n",
    "    print \"Summation=\",(num1+num2+num3+num4)\n",
    "else:\n",
    "    print\"invalid selection\"\n",
    "        \n",
    "\n",
    "print \"thank you\"\n",
    "\n",
    "    "
   ]
  },
  {
   "cell_type": "code",
   "execution_count": null,
   "metadata": {},
   "outputs": [],
   "source": [
    "#4. Take the distance in km\n",
    "#   show that in cm, meters, in milli meters\n",
    "while True:\n",
    "    print \"\"\"\n",
    "     ENTER\n",
    "     1.Distance calculator(km to cm,meter,milimeter)\n",
    "     2.QUIT\n",
    "     \"\"\"\n",
    "    opt=int(raw_input())\n",
    "    if opt==1:\n",
    "         print \"Enter Distance In Kilo Metera(km)\"\n",
    "         km=int(raw_input())\n",
    "         print km,\"KM=\",km*100000,\"CM\"\n",
    "         print km,\"KM=\",km*1000,\"Meters\"\n",
    "         print km,\"KM=\",km*1000000,\"Milimeters\"\n",
    "    elif opt==2:\n",
    "        break\n",
    "    else:\n",
    "        print\"invalid selection\"\n",
    "        continue\n",
    "\n",
    "print \"thank you\"\n",
    "\n"
   ]
  },
  {
   "cell_type": "code",
   "execution_count": 1,
   "metadata": {},
   "outputs": [
    {
     "name": "stdout",
     "output_type": "stream",
     "text": [
      "\n",
      "     ENTER\n",
      "     1.Harddisk Memory Converter\n",
      "     2.QUIT\n",
      "     \n",
      "1\n",
      "Enter Size Of Your Hard disk in GB\n",
      "245\n",
      "245 GB= 250880 MB\n",
      "245 GB= 256901120 KB\n",
      "245 GB= 0.2392578125 TB\n",
      "245 GB= 0.00023365020752 PB\n",
      "\n",
      "     ENTER\n",
      "     1.Harddisk Memory Converter\n",
      "     2.QUIT\n",
      "     \n",
      "2\n",
      "thank you\n"
     ]
    }
   ],
   "source": [
    "#Take the size of your hard disk in GB\n",
    "#show that in MB, KB, TB, PB\n",
    "while True:\n",
    "    print \"\"\"\n",
    "     ENTER\n",
    "     1.Harddisk Memory Converter\n",
    "     2.QUIT\n",
    "     \"\"\"\n",
    "    opt=int(raw_input())\n",
    "    if opt==1:\n",
    "         print \"Enter Size Of Your Hard disk in GB\"\n",
    "         gb=int(raw_input())\n",
    "         print gb,\"GB=\",gb*1024,\"MB\"\n",
    "         print gb,\"GB=\",gb*1024*1024,\"KB\"\n",
    "         print gb,\"GB=\",gb/1024.0,\"TB\"\n",
    "         print gb,\"GB=\",float(gb/(1024*1024.0)),\"PB\"\n",
    "    elif opt==2:\n",
    "        break\n",
    "    else:\n",
    "        print\"invalid selection\"\n",
    "        continue\n",
    "\n",
    "print \"thank you\""
   ]
  },
  {
   "cell_type": "code",
   "execution_count": 2,
   "metadata": {},
   "outputs": [
    {
     "name": "stdout",
     "output_type": "stream",
     "text": [
      "Enter Actual String\n",
      "sdfgdgg\n",
      "Enter Substring\n",
      "gg\n",
      "True\n"
     ]
    }
   ],
   "source": [
    "#6. write a program to chek given substring is there in actual string or not? (search should be case insensitive)\n",
    "\n",
    "print \"Enter Actual String\"\n",
    "ac_str=raw_input()\n",
    "print \"Enter Substring\"\n",
    "sub_str=raw_input()\n",
    "print sub_str in ac_str\n",
    "     \n",
    "            \n"
   ]
  },
  {
   "cell_type": "code",
   "execution_count": 4,
   "metadata": {},
   "outputs": [
    {
     "name": "stdout",
     "output_type": "stream",
     "text": [
      "enter a number\n",
      "11\n",
      "NUMBER IS PRIME\n"
     ]
    }
   ],
   "source": [
    "#7. take a number from the user and check whether it is prime?\n",
    "\n",
    "\n",
    "print \"enter a number\"\n",
    "num=int(raw_input())\n",
    "i=2\n",
    "pr=0\n",
    "while(i<num/2):\n",
    "    if(num%i==0):\n",
    "        print \"NOT PRIME\"\n",
    "        pr=1\n",
    "        break\n",
    "    else:\n",
    "        i=i+1\n",
    "if pr==0:\n",
    "    print \"NUMBER IS PRIME\""
   ]
  },
  {
   "cell_type": "code",
   "execution_count": 49,
   "metadata": {},
   "outputs": [
    {
     "name": "stdout",
     "output_type": "stream",
     "text": [
      "Enter String\n",
      "13221\n",
      "String Only contains digit\n"
     ]
    }
   ],
   "source": [
    "#8. take a string from the user and check contains only digits or not?\n",
    "\n",
    "print \"Enter String\"\n",
    "str=raw_input()\n",
    "for i in str:\n",
    "    if ord(i)>=48 and ord(i)<=57:\n",
    "        flag=1\n",
    "    else:\n",
    "        flag=0\n",
    "        break\n",
    "if flag==1:\n",
    "    print \"String Only contains digit\"\n",
    "else:\n",
    "    print \"String Not contains only digit\""
   ]
  },
  {
   "cell_type": "code",
   "execution_count": 5,
   "metadata": {},
   "outputs": [
    {
     "name": "stdout",
     "output_type": "stream",
     "text": [
      "Enter String\n",
      "rey6\n",
      "False\n"
     ]
    }
   ],
   "source": [
    "#8. take a string from the user and check contains only digits or not?\n",
    "print \"Enter String\"\n",
    "str=raw_input()\n",
    "print str.isdigit()\n"
   ]
  },
  {
   "cell_type": "code",
   "execution_count": 48,
   "metadata": {},
   "outputs": [
    {
     "name": "stdout",
     "output_type": "stream",
     "text": [
      "97 <type 'int'>\n",
      "122\n",
      "65\n",
      "90\n"
     ]
    }
   ],
   "source": [
    "print ord('a'),type(ord('a'))\n",
    "print ord('z')\n",
    "print ord('A')\n",
    "print ord('Z')"
   ]
  },
  {
   "cell_type": "code",
   "execution_count": 43,
   "metadata": {},
   "outputs": [
    {
     "name": "stdout",
     "output_type": "stream",
     "text": [
      "Enter String\n",
      "dsv56ssssfks\n",
      "String Not contains only alphabets\n"
     ]
    }
   ],
   "source": [
    "#9. take a string from the user and check contains only  alphabets or not?\n",
    "print \"Enter String\"\n",
    "str=raw_input()\n",
    "for i in str:\n",
    "    if (ord(i)>=97 and ord(i)<=122) or (ord(i)>=65 and ord(i)<=90 ):\n",
    "        flag=1\n",
    "    else:\n",
    "        flag=0\n",
    "        break\n",
    "if flag==1:\n",
    "    print \"String Only contains alphabets\"\n",
    "else:\n",
    "    print \"String Not contains only alphabets\""
   ]
  },
  {
   "cell_type": "code",
   "execution_count": 8,
   "metadata": {},
   "outputs": [
    {
     "name": "stdout",
     "output_type": "stream",
     "text": [
      "Enter String\n",
      "gffffh2A\n",
      "False\n"
     ]
    }
   ],
   "source": [
    "#9. take a string from the user and check contains only  alphabets or not?\n",
    "print \"Enter String\"\n",
    "str=raw_input()\n",
    "print str.isalpha()"
   ]
  },
  {
   "cell_type": "code",
   "execution_count": 53,
   "metadata": {},
   "outputs": [
    {
     "name": "stdout",
     "output_type": "stream",
     "text": [
      "Enter String\n",
      "@# $\n",
      "String contains only special chars\n"
     ]
    }
   ],
   "source": [
    "#10. take a string from the user and check contains only  special chars or not?\n",
    "print \"Enter String\"\n",
    "str=raw_input()\n",
    "for i in str:\n",
    "    if (ord(i)>=97 and ord(i)<=122) or (ord(i)>=65 and ord(i)<=90)  or (ord(i)>=48 and ord(i)<=57):\n",
    "        flag=1\n",
    "        break\n",
    "    else:\n",
    "        flag=0\n",
    "        \n",
    "if flag==1:\n",
    "    print \"String Not contains Only special chars\"\n",
    "else:\n",
    "    print \"String contains only special chars\"\n"
   ]
  },
  {
   "cell_type": "code",
   "execution_count": 56,
   "metadata": {},
   "outputs": [
    {
     "name": "stdout",
     "output_type": "stream",
     "text": [
      "Enter String\n",
      "AASDDS\n",
      "String contains only  capiatl letters\n"
     ]
    }
   ],
   "source": [
    "#10a. take a string from the user and check contains only  capiatl letters or not?\n",
    "print \"Enter String\"\n",
    "str=raw_input()\n",
    "for i in str:\n",
    "    if ord(i)>=65 and ord(i)<=90:\n",
    "        flag=1\n",
    "    else:\n",
    "        flag=0\n",
    "        break\n",
    "if flag==1:\n",
    "    print \"String contains only  capiatl letters\"\n",
    "else:\n",
    "    print \"String Not contains only  capiatl letters\"\n"
   ]
  },
  {
   "cell_type": "code",
   "execution_count": 9,
   "metadata": {},
   "outputs": [
    {
     "name": "stdout",
     "output_type": "stream",
     "text": [
      "Enter String\n",
      "GFSFSAGH\n",
      "True\n"
     ]
    }
   ],
   "source": [
    "#10a. take a string from the user and check contains only  capiatl letters or not?\n",
    "print \"Enter String\"\n",
    "str=raw_input()\n",
    "print str.isupper()"
   ]
  },
  {
   "cell_type": "code",
   "execution_count": 58,
   "metadata": {},
   "outputs": [
    {
     "name": "stdout",
     "output_type": "stream",
     "text": [
      "Enter String\n",
      "gjhgjh\n",
      "String ccontains only  small letters\n"
     ]
    }
   ],
   "source": [
    "#10b. take a string from the user and check contains only  small letters or not?\n",
    "print \"Enter String\"\n",
    "str=raw_input()\n",
    "for i in str:\n",
    "    if ord(i)>=97 and ord(i)<=122:\n",
    "        flag=1\n",
    "    else:\n",
    "        flag=0\n",
    "        break\n",
    "if flag==1:\n",
    "    print \"String ccontains only  small letters\"\n",
    "else:\n",
    "    print \"String Not contains only  small letters\""
   ]
  },
  {
   "cell_type": "code",
   "execution_count": 10,
   "metadata": {},
   "outputs": [
    {
     "name": "stdout",
     "output_type": "stream",
     "text": [
      "Enter String\n",
      "dddd3\n",
      "True\n"
     ]
    }
   ],
   "source": [
    "#10b. take a string from the user and check contains only  small letters or not?\n",
    "print \"Enter String\"\n",
    "print raw_input().islower()"
   ]
  },
  {
   "cell_type": "code",
   "execution_count": null,
   "metadata": {},
   "outputs": [],
   "source": [
    "#10c. WAP to replace last n occurances.\n",
    "\n"
   ]
  },
  {
   "cell_type": "code",
   "execution_count": 64,
   "metadata": {},
   "outputs": [
    {
     "name": "stdout",
     "output_type": "stream",
     "text": [
      "Enter String\n",
      "dghfg 59.99\n",
      "string contains numbers\n"
     ]
    }
   ],
   "source": [
    "#10d. WAP to check given string contains numbers or not. it should consider float numbers also.\n",
    "\n",
    "print \"Enter String\"\n",
    "str=raw_input()\n",
    "for i in str:\n",
    "    if ord(i)>=48 and ord(i)<=57:\n",
    "        flag=1\n",
    "        break\n",
    "    else:\n",
    "        flag=0\n",
    "        \n",
    "if flag==1:\n",
    "    print \"string contains numbers\"\n",
    "else:\n",
    "    print \"String Not contains numbers\"\n"
   ]
  },
  {
   "cell_type": "code",
   "execution_count": 100,
   "metadata": {},
   "outputs": [
    {
     "name": "stdout",
     "output_type": "stream",
     "text": [
      "Enter String\n",
      "DSFdsSDFd\n",
      "dsfdssdfd\n"
     ]
    }
   ],
   "source": [
    "#10e. Convert the total string in to lower case. Without using lower() function.\n",
    "\n",
    "print \"Enter String\"\n",
    "str=raw_input()\n",
    "newstr=\"\"\n",
    "for c in str:\n",
    "    if ord(c)>=65 and ord(c)<=90:\n",
    "        newstr+=chr(ord(c)+32)\n",
    "        #print chr(ord(c)+32)\n",
    "    else:\n",
    "         newstr+=c\n",
    "\n",
    "print newstr\n"
   ]
  },
  {
   "cell_type": "code",
   "execution_count": 11,
   "metadata": {},
   "outputs": [
    {
     "name": "stdout",
     "output_type": "stream",
     "text": [
      "Enter String\n",
      "DJHSJDFdsdaKHDF22\n",
      "djhsjdfdsdakhdf22\n"
     ]
    }
   ],
   "source": [
    "#10e. Convert the total string in to lower case. Without using lower() function.\n",
    "\n",
    "print \"Enter String\"\n",
    "print raw_input().lower()"
   ]
  },
  {
   "cell_type": "code",
   "execution_count": null,
   "metadata": {},
   "outputs": [],
   "source": [
    "#10f. Convert the total string in to upper case. Without using upper() function.\n",
    "print \"Enter String\"\n",
    "print raw_input().upper()"
   ]
  },
  {
   "cell_type": "code",
   "execution_count": 103,
   "metadata": {},
   "outputs": [
    {
     "name": "stdout",
     "output_type": "stream",
     "text": [
      "Enter String\n",
      "fdg3 ghfg\n",
      "FDG3 GHFG\n"
     ]
    }
   ],
   "source": [
    "#10f. Convert the total string in to upper case. Without using upper() function.\n",
    "\n",
    "print \"Enter String\"\n",
    "str=raw_input()\n",
    "newstr=\"\"\n",
    "for c in str:\n",
    "    if ord(c)>=97 and ord(c)<=122:\n",
    "        newstr+=chr(ord(c)-32)\n",
    "        #print chr(ord(c)+32)\n",
    "    else:\n",
    "         newstr+=c\n",
    "\n",
    "print newstr  "
   ]
  },
  {
   "cell_type": "code",
   "execution_count": 34,
   "metadata": {},
   "outputs": [
    {
     "name": "stdout",
     "output_type": "stream",
     "text": [
      "Enter String\n",
      "gjhg7\n",
      "0\n"
     ]
    }
   ],
   "source": [
    "#11. take a string from the user and check contains atleast one digit or not?"
   ]
  },
  {
   "cell_type": "code",
   "execution_count": 3,
   "metadata": {},
   "outputs": [
    {
     "name": "stdout",
     "output_type": "stream",
     "text": [
      "first 100 odd number\n",
      "1\n",
      "3\n",
      "5\n",
      "7\n",
      "9\n",
      "11\n",
      "13\n",
      "15\n",
      "17\n",
      "19\n",
      "21\n",
      "23\n",
      "25\n",
      "27\n",
      "29\n",
      "31\n",
      "33\n",
      "35\n",
      "37\n",
      "39\n",
      "41\n",
      "43\n",
      "45\n",
      "47\n",
      "49\n",
      "51\n",
      "53\n",
      "55\n",
      "57\n",
      "59\n",
      "61\n",
      "63\n",
      "65\n",
      "67\n",
      "69\n",
      "71\n",
      "73\n",
      "75\n",
      "77\n",
      "79\n",
      "81\n",
      "83\n",
      "85\n",
      "87\n",
      "89\n",
      "91\n",
      "93\n",
      "95\n",
      "97\n",
      "99\n"
     ]
    }
   ],
   "source": [
    "\n",
    "#12. take a string from the user and check contains atleast one alphabets or not?\n",
    "#13. take a string from the user and check contains atleast one chars or not?\n",
    "#14. take a string from the user and check contains atleast one capital letter or not?\n",
    "#15. take a string from the user and check contains atleast one small letter or not?\n",
    "#same as previous programmes\n",
    "\n",
    "#17. Print the first 100 odd numbers\n",
    "\n",
    "i=1\n",
    "print \"first 100 odd number\"\n",
    "while(i<100):\n",
    "    if(i%2 != 0):\n",
    "        print i\n",
    "    i=i+1"
   ]
  },
  {
   "cell_type": "code",
   "execution_count": 4,
   "metadata": {},
   "outputs": [
    {
     "name": "stdout",
     "output_type": "stream",
     "text": [
      "Enter Number\n",
      "78\n",
      "FACTORS ARE:\n",
      "2\n",
      "3\n",
      "6\n",
      "13\n",
      "26\n",
      "39\n"
     ]
    }
   ],
   "source": [
    "#18. Determine the factors of a number entered  by the user\n",
    "print \"Enter Number\"\n",
    "num=int(raw_input())\n",
    "factor=2\n",
    "print \"FACTORS ARE:\"\n",
    "while(factor<=num/2):\n",
    "    if(num%factor==0):\n",
    "        print factor\n",
    "    factor=factor+1\n",
    "\n"
   ]
  },
  {
   "cell_type": "code",
   "execution_count": 1,
   "metadata": {},
   "outputs": [],
   "source": [
    "#19. Play a number guessing game (User enters a guess, you print YES or Higher or Lower\n",
    "\n"
   ]
  },
  {
   "cell_type": "code",
   "execution_count": 3,
   "metadata": {},
   "outputs": [
    {
     "name": "stdout",
     "output_type": "stream",
     "text": [
      "ENTER TWO NUMBER\n",
      "12\n",
      "6\n",
      "12 is divisible by 6\n"
     ]
    }
   ],
   "source": [
    "#20. Take two numbers from the user a,b check whether a is divisible by b or not?\n",
    "\n",
    "\n",
    "print \"ENTER TWO NUMBER\"\n",
    "num1=int(raw_input())\n",
    "num2=int(raw_input())\n",
    "if num1%num2==0:\n",
    "    print num1,\"is divisible by\",num2\n",
    "    \n",
    "else:\n",
    "    print num1,\"is not divisible by\",num2"
   ]
  },
  {
   "cell_type": "code",
   "execution_count": 1,
   "metadata": {},
   "outputs": [
    {
     "name": "stdout",
     "output_type": "stream",
     "text": [
      "[0, 3, 5, 6, 9, 10, 12, 15, 18] <type 'list'>\n",
      "78\n"
     ]
    }
   ],
   "source": [
    "#22. Find the sum of all the multiples of 3 or 5 below 1000\n",
    "num=[i for i in xrange(20) if i%3==0 or i%5==0]\n",
    "print num,type(num)\n",
    "print sum (num)\n",
    "#print sum([i for i in xrange(20) if i%3==0 or i%5==0])\n"
   ]
  },
  {
   "cell_type": "code",
   "execution_count": 18,
   "metadata": {},
   "outputs": [
    {
     "name": "stdout",
     "output_type": "stream",
     "text": [
      "78\n"
     ]
    }
   ],
   "source": [
    "#22. Find the sum of all the multiples of 3 or 5 below 1000\n",
    "print sum(i if i%3==0 or i%5==0 else 0 for i in xrange(20))"
   ]
  },
  {
   "cell_type": "code",
   "execution_count": 14,
   "metadata": {},
   "outputs": [
    {
     "name": "stdout",
     "output_type": "stream",
     "text": [
      "78\n"
     ]
    }
   ],
   "source": [
    "#22. Find the sum of all the multiples of 3 or 5 below 1000\n",
    "print sum(map(lambda x:x if x%3==0 or x%5==0 else 0, xrange(20)))"
   ]
  },
  {
   "cell_type": "code",
   "execution_count": 28,
   "metadata": {},
   "outputs": [
    {
     "name": "stdout",
     "output_type": "stream",
     "text": [
      "[None, None, None, None, None, None, None, None, None, None]\n",
      "{0: 0, 1: 1, 2: 2, 3: 3, 4: 4, 5: 5, 6: 6, 7: 7, 8: 8, 9: 9}\n"
     ]
    }
   ],
   "source": [
    "a={}\n",
    "sum=map(lambda x:a.update({x:x}),xrange(10))\n",
    "print sum \n",
    "print a"
   ]
  },
  {
   "cell_type": "code",
   "execution_count": 15,
   "metadata": {},
   "outputs": [
    {
     "name": "stdout",
     "output_type": "stream",
     "text": [
      "ENTER TWO NUMBER\n",
      "34\n",
      "9\n",
      "not divisible\n"
     ]
    }
   ],
   "source": [
    "#20. Take two numbers from the user a,b check whether a is divisible by b or not?\n",
    "print \"ENTER TWO NUMBER\"\n",
    "num1=int(raw_input())\n",
    "num2=int(raw_input())\n",
    "print \"divisible\" if num1%num2==0 else \"not divisible\""
   ]
  },
  {
   "cell_type": "code",
   "execution_count": null,
   "metadata": {},
   "outputs": [],
   "source": []
  },
  {
   "cell_type": "code",
   "execution_count": 10,
   "metadata": {},
   "outputs": [
    {
     "name": "stdout",
     "output_type": "stream",
     "text": [
      "\n",
      "   For Different Eligibility Check \n",
      "   1. Theatre: \n",
      "   2. Voting system: \n",
      "   3. Marriage in india: \n",
      "   4. For govt jobs: \n",
      "   5. For driving licence:\n",
      "   \n",
      "   Enter an Option\n",
      "   Enter Age Also\n",
      "   \n",
      "3\n",
      "10\n",
      "You are not Eligible:\n"
     ]
    }
   ],
   "source": [
    "#119. \"\"\"\n",
    "#Eligibility:\n",
    "\t#1. Theatre: 5\n",
    "\t#2. Voting system: 18\n",
    "\t#3. Marriage in india: 23\n",
    "\t#4. For govt jobs: 18\n",
    "\t#5. For driving licence: 18\n",
    "\t#Enter an option:\n",
    "\t#Enter an age:\n",
    "\n",
    "#\"\"\"\n",
    "print '''\n",
    "   For Different Eligibility Check \n",
    "   1. Theatre: \n",
    "   2. Voting system: \n",
    "   3. Marriage in india: \n",
    "   4. For govt jobs: \n",
    "   5. For driving licence:\n",
    "   \n",
    "   Enter an Option\n",
    "   Enter Age Also\n",
    "   '''\n",
    "opt=int(raw_input())\n",
    "age=int(raw_input())\n",
    "if (opt==1 and age>5):\n",
    "    print \"You are Eligible for theatre\"\n",
    "elif opt==2 and age>=18:\n",
    "    print \"You are Eligible for Voting system:\"\n",
    "elif opt==3 and age>=23:\n",
    "    print \"You are Eligible for Marriage in india:\"\n",
    "elif opt==4 and age>=18:\n",
    "    print \"You are Eligible for For govt job:\"\n",
    "elif opt==5 and age>=18:\n",
    "    print \"You are Eligible for Voting system:\"\n",
    "else:\n",
    "    print \"You are not Eligible:\""
   ]
  },
  {
   "cell_type": "code",
   "execution_count": 3,
   "metadata": {},
   "outputs": [
    {
     "name": "stdout",
     "output_type": "stream",
     "text": [
      "enter number seperated by comma\n",
      "3,6,8,9\n",
      "[3, 6, 8, 9]\n",
      "minimun number is 3\n",
      "maximun number is 9\n",
      "sum= 26\n",
      "average number is 6.5\n"
     ]
    }
   ],
   "source": [
    "#43.  Taake numbers from the user and findout min, maximum, sum, average\n",
    "print \"enter number seperated by comma\"\n",
    "num=map(int,raw_input().split(','))\n",
    "print num\n",
    "print \"minimun number is\",min(num)\n",
    "print \"maximun number is\",max(num)\n",
    "print \"sum=\",sum(num)\n",
    "print \"average number is\",sum(num)/float(len(num))"
   ]
  },
  {
   "cell_type": "code",
   "execution_count": 23,
   "metadata": {},
   "outputs": [
    {
     "name": "stdout",
     "output_type": "stream",
     "text": [
      "[None, None, None, None, None, None]\n",
      "[10, 20, 30, 40, 50, 60, 70, 80, 90, 20]\n"
     ]
    }
   ],
   "source": [
    "#44. l=[10,20,30,[40,50,60],70,[80,90,20]]. Convert this list as sigle dimentiona list\n",
    "l=[10,20,30,[40,50,60],70,[80,90,20]]\n",
    "nl=[]\n",
    "print map(lambda p:nl.append(p) if isinstance(p,(int)) else nl.extend(p),l)\n",
    "print nl\n",
    "#print len(l[0])"
   ]
  },
  {
   "cell_type": "code",
   "execution_count": 5,
   "metadata": {},
   "outputs": [
    {
     "name": "stdout",
     "output_type": "stream",
     "text": [
      "enter the numbers (seperated by ,)\n",
      "12,33,66,77,88,99,99,59\n",
      "88\n"
     ]
    }
   ],
   "source": [
    "#second highest of a list of number\n",
    "print \"enter the numbers (seperated by ,)\"\n",
    "#li=map(lambda x:int(x),raw_input().split(\",\"))\n",
    "li=map(int,raw_input().split(\",\"))\n",
    "max_value=max(li)\n",
    "while li.count(max_value)>0:\n",
    "    li.remove(max_value)\n",
    "print max(li)"
   ]
  },
  {
   "cell_type": "code",
   "execution_count": 9,
   "metadata": {},
   "outputs": [
    {
     "name": "stdout",
     "output_type": "stream",
     "text": [
      "enter string\n",
      "ffghf gggf              fghfghf fgh      jff\n",
      "['ffghf', 'gggf', 'fghfghf', 'fgh', 'jff']\n",
      "outpu=fhgff gggf fhgfhgf fgh ffj\n"
     ]
    }
   ],
   "source": [
    "#reverese every alternative word of a given string\n",
    "print \"enter string\"\n",
    "line=raw_input().split(\" \")\n",
    "#print line.count(\"\")\n",
    "while line.count(\"\")>0:\n",
    "    line.remove(\"\")\n",
    "print line\n",
    "res_list= map(lambda i:i[1][::-1] if i[0]%2==0 else i[1] ,enumerate(line))#here we are using enumerate to access key,value\n",
    "print \"outpu=\"+\" \".join(res_list)\n",
    "#print map(lambda i:i[1] if i[0]%2==0 else i[1][::-1],enumerate(s.split()))"
   ]
  },
  {
   "cell_type": "code",
   "execution_count": 12,
   "metadata": {},
   "outputs": [
    {
     "name": "stdout",
     "output_type": "stream",
     "text": [
      "enter string\n",
      "google\n",
      "['g', 'o', 'o', 'g', 'l', 'e']\n",
      "{'e': 1, 'o': 2, 'g': 2, 'l': 1}\n"
     ]
    }
   ],
   "source": [
    "#63. input: google\n",
    "    #output: {'g':2,'o':2,'l':1,'e':1} use dictionary comprehension\n",
    "print \"enter string\"\n",
    "line=list(raw_input())\n",
    "print line\n",
    "d={}\n",
    "for key,value in enumerate(line):\n",
    "    d.update({value:line.count(value)})\n",
    "print d"
   ]
  },
  {
   "cell_type": "code",
   "execution_count": 16,
   "metadata": {},
   "outputs": [
    {
     "name": "stdout",
     "output_type": "stream",
     "text": [
      "enter string\n",
      "google\n",
      "['g', 'o', 'o', 'g', 'l', 'e']\n",
      "{'e': 1, 'o': 2, 'g': 2, 'l': 1}\n"
     ]
    }
   ],
   "source": [
    "#63. input: google\n",
    "    #output: {'g':2,'o':2,'l':1,'e':1} use dictionary comprehension\n",
    "print \"enter string\"\n",
    "line=list(raw_input())\n",
    "print line\n",
    "d={}\n",
    "map(lambda l:d.update({l:line.count(l)}),line)\n",
    "#for key,value in enumerate(line):\n",
    "  #  d.update({value:line.count(value)})\n",
    "print d"
   ]
  },
  {
   "cell_type": "code",
   "execution_count": 25,
   "metadata": {},
   "outputs": [
    {
     "name": "stdout",
     "output_type": "stream",
     "text": [
      "union= [1, 2, 3, 4, 5, 6, 7, 8]\n",
      "[1, 2, 3, 4, 5, 6, 7, 8]\n"
     ]
    }
   ],
   "source": [
    "#52.  WAP to find union and intersection of lists.\n",
    "l1=[1,2,3,4,5]\n",
    "l2=[4,5,6,7,8]\n",
    "for i in l1:\n",
    "    while l2.count(i)>0:\n",
    "        l2.remove(i)\n",
    "        \n",
    "print \"union=\",l1+l2\n",
    "l1.extend(l2)\n",
    "print l1"
   ]
  },
  {
   "cell_type": "code",
   "execution_count": null,
   "metadata": {},
   "outputs": [],
   "source": [
    "#52.  WAP to find union and intersection of lists.\n",
    "l1=[1,2,3,4,5]\n",
    "l2=[4,5,6,7,8]\n",
    "for i in l1:\n",
    "    while l2.count(i)>0:\n",
    "        l2.remove(i)\n",
    "        \n",
    "print \"union=\",l1+l2\n",
    "l1.append(l2)\n",
    "print l1"
   ]
  },
  {
   "cell_type": "code",
   "execution_count": 6,
   "metadata": {},
   "outputs": [
    {
     "name": "stdout",
     "output_type": "stream",
     "text": [
      "[1, 2, 3, 4, 5, 5, 4]\n",
      "intersection= [5, 4]\n"
     ]
    }
   ],
   "source": [
    "#52.  WAP to find union and intersection of lists.\n",
    "l1=[1,2,3,4,5,5,4]\n",
    "l2=[4,5,6,7,8]\n",
    "l3=[]\n",
    "print l1\n",
    "for i in l1:\n",
    "    if l2.count(i)>0:\n",
    "        l3.append(i)\n",
    "for i in l3:\n",
    "    while l3.count(i)>1:\n",
    "        l3.remove(i)\n",
    "print \"intersection=\",l3\n"
   ]
  },
  {
   "cell_type": "code",
   "execution_count": 7,
   "metadata": {},
   "outputs": [
    {
     "name": "stdout",
     "output_type": "stream",
     "text": [
      "enter nuumber\n",
      "3\n",
      "[1, 2, 1]\n"
     ]
    }
   ],
   "source": [
    "#53. input: fun(5) output: [1,2,3,4,3,2,1]\n",
    "print \"enter nuumber\"\n",
    "num=int(raw_input())\n",
    "l=[]\n",
    "i=1\n",
    "while i<num:\n",
    "    l.append(i)\n",
    "    i+=1\n",
    "i=num-2\n",
    "while i>0:\n",
    "    l.append(i)\n",
    "    i-=1\n",
    "print l\n",
    "    "
   ]
  },
  {
   "cell_type": "code",
   "execution_count": null,
   "metadata": {},
   "outputs": [],
   "source": [
    "#53. input: fun(5) output: [1,2,3,4,3,2,1]\n",
    "print \"enter nuumber\"\n",
    "num=int(raw_input())\n",
    "print xrange(1,num)\n",
    "    "
   ]
  },
  {
   "cell_type": "markdown",
   "metadata": {},
   "source": []
  }
 ],
 "metadata": {
  "kernelspec": {
   "display_name": "Python 2",
   "language": "python",
   "name": "python2"
  },
  "language_info": {
   "codemirror_mode": {
    "name": "ipython",
    "version": 2
   },
   "file_extension": ".py",
   "mimetype": "text/x-python",
   "name": "python",
   "nbconvert_exporter": "python",
   "pygments_lexer": "ipython2",
   "version": "2.7.14"
  }
 },
 "nbformat": 4,
 "nbformat_minor": 2
}
